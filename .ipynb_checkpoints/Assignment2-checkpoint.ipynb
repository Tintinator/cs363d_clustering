{
 "cells": [
  {
   "cell_type": "markdown",
   "metadata": {},
   "source": [
    "## Name(s):"
   ]
  },
  {
   "cell_type": "code",
   "execution_count": 1,
   "metadata": {
    "collapsed": true
   },
   "outputs": [],
   "source": [
    "#Tin La (tsl525), Nick Aguire "
   ]
  },
  {
   "cell_type": "markdown",
   "metadata": {},
   "source": [
    "# Assignment 2: Intro to Clustering\n",
    "\n",
    "In this assignment we'll be looking at three popular types of clustering algorithms -- K-Means clustering, Hierarchical clustering and Density Based clustering. We'll also look at some measures of cluster quality like cohesion, separation and silhoutte coefficient."
   ]
  },
  {
   "cell_type": "markdown",
   "metadata": {},
   "source": [
    "## Part 1: K Means Clustering\n",
    "\n",
    "In k means clustering you are given a dataset and a hyperparameter k specifying the number of desired of output clusters. The basic idea of k means is to minimize the sum of squared error (SSE) of the output clusters. Unfortunately, the solution to this problem is NP Hard. In this assignment we'll be implementing the iterative algorithm that produces the locally optimal solution to this problem but, guarantees convergence."
   ]
  },
  {
   "cell_type": "code",
   "execution_count": 2,
   "metadata": {
    "collapsed": true
   },
   "outputs": [],
   "source": [
    "# Some headers\n",
    "import random\n",
    "import numpy as np\n",
    "import matplotlib.pyplot as plt\n",
    "from numpy.random import rand as rgen\n",
    "from numpy import square, sqrt, random"
   ]
  },
  {
   "cell_type": "code",
   "execution_count": 3,
   "metadata": {
    "collapsed": true
   },
   "outputs": [],
   "source": [
    "# Enable inline mode for matplotlib so that IPython displays graphs.\n",
    "%matplotlib inline"
   ]
  },
  {
   "cell_type": "code",
   "execution_count": 4,
   "metadata": {
    "collapsed": true
   },
   "outputs": [],
   "source": [
    "# get data from text file\n",
    "data = np.genfromtxt(\"data.csv\", delimiter=\",\")"
   ]
  },
  {
   "cell_type": "markdown",
   "metadata": {},
   "source": [
    "Q1. Implement the function `generateClusters` that returns clusters, given the cluster centroids (`mu`) and the dataset (`data`). Each datapoint needs to be associated to the closest cluster centroid."
   ]
  },
  {
   "cell_type": "code",
   "execution_count": 5,
   "metadata": {
    "collapsed": true
   },
   "outputs": [],
   "source": [
    "def generateClusters(data, mu):\n",
    "    # your code goes here\n",
    "    \n",
    "    clusters = []\n",
    "    \n",
    "    for centroid in mu:\n",
    "        clusters.append([])\n",
    "    \n",
    "    #iterate through all data\n",
    "    for item in data:\n",
    "        chosencluster = 0\n",
    "        mindistance = 100000\n",
    "        #each data will calculate distance with each centroid\n",
    "        for x in range(len(mu)):\n",
    "            centroid = mu[x]\n",
    "            distance = sqrt(square(item[0]-centroid[0]) + square(item[1]-centroid[1]))\n",
    "            #if data--centroid distance is min, then set it to that cluster\n",
    "            if distance < mindistance:\n",
    "                mindistance = distance\n",
    "                chosencluster = x\n",
    "        #add data to chosen cluster        \n",
    "        clusters[chosencluster].append(item)\n",
    "            \n",
    "    return clusters"
   ]
  },
  {
   "cell_type": "markdown",
   "metadata": {},
   "source": [
    "Q2. Implement the function `recompute_centroids` that returns the centroids given a set of input clusters. Hint: you need to calculate the mean for each cluster."
   ]
  },
  {
   "cell_type": "code",
   "execution_count": 6,
   "metadata": {
    "collapsed": true
   },
   "outputs": [],
   "source": [
    "def recompute_centroids(clusters):\n",
    "    # your code goes here\n",
    "    \n",
    "    centroids = []\n",
    "    \n",
    "    #for each cluster\n",
    "    for cluster in clusters:\n",
    "        x = 0\n",
    "        y = 0\n",
    "        #add up all the points\n",
    "        for data in cluster:\n",
    "            x += data[0]\n",
    "            y += data[1]\n",
    "        #calculate centroid and add to centroids\n",
    "        if len(cluster) != 0:\n",
    "            x = x/len(cluster)\n",
    "            y = y/len(cluster)\n",
    "        centroid = (x, y)\n",
    "        centroids.append(centroid)\n",
    "    \n",
    "    return centroids"
   ]
  },
  {
   "cell_type": "markdown",
   "metadata": {},
   "source": [
    "Q3. Implement the function `checkConvergence` that checks if the termination condition of k means algorithm has reached, i.e. the previous centroids are the same as the new centroids. "
   ]
  },
  {
   "cell_type": "code",
   "execution_count": 7,
   "metadata": {
    "collapsed": true
   },
   "outputs": [],
   "source": [
    "def checkConvergence(mu, previous_mu):\n",
    "    # your code goes here\n",
    "    \n",
    "    for x in range(len(mu)):\n",
    "        cur_centroid = mu[x]\n",
    "        prev_centroid = previous_mu[x]\n",
    "        \n",
    "        if cur_centroid[0] != prev_centroid[0] and cur_centroid[1] != prev_centroid[1]:\n",
    "            return False;\n",
    "        \n",
    "    return True"
   ]
  },
  {
   "cell_type": "markdown",
   "metadata": {},
   "source": [
    "Q4. Implement the function `kMeansClustering` that returns k clusters along with their centroids given the input dataset and the desired number of clusters (`k`)."
   ]
  },
  {
   "cell_type": "code",
   "execution_count": 8,
   "metadata": {
    "collapsed": true
   },
   "outputs": [],
   "source": [
    "def kMeansClustering(data, k):\n",
    "    clusters = None\n",
    "    mu = None\n",
    "    # your code goes here\n",
    "    \n",
    "    #generate 'k' random points as centroids for mu\n",
    "    mu = rgen(k, 2)\n",
    "    #generate inital clusters and centroids\n",
    "    clusters = generateClusters(data, mu)\n",
    "    newmu = recompute_centroids(clusters)\n",
    "    \n",
    "    #if centroids don't match, update clusters and centroids\n",
    "    while checkConvergence(newmu, mu) == False:\n",
    "        mu = newmu\n",
    "        clusters = generateClusters(data, mu)\n",
    "        newmu = recompute_centroids(clusters)\n",
    "    \n",
    "    #return the 'k' clusters\n",
    "    return(mu, clusters)"
   ]
  },
  {
   "cell_type": "markdown",
   "metadata": {},
   "source": [
    "Q5. Cluster the data present in `data.csv` using `kMeansClustering` with `k = 5`. Display the clusters using `plt.scatter`, make sure to mark different clusters with a different color. Also calculate the average cohesion and separation for the generated clusters."
   ]
  },
  {
   "cell_type": "code",
   "execution_count": 9,
   "metadata": {},
   "outputs": [],
   "source": [
    "#compute cohesion\n",
    "\n",
    "def calcCohesion(centroids, clusters):\n",
    "    cluster_cohesion = 0\n",
    "    i = 0\n",
    "    \n",
    "    for cluster in clusters:\n",
    "        temp_sum = 0\n",
    "        \n",
    "        for point in cluster:\n",
    "            temp_sum += (point[0] - centroids[i][0])**2 + (point[1] - centroids[i][1])**2\n",
    "            \n",
    "        i+=1\n",
    "        cluster_cohesion += temp_sum\n",
    "        \n",
    "    return cluster_cohesion\n",
    "\n",
    "#compute separation\n",
    "\n",
    "def calcSeparation(centroids, clusters):\n",
    "    x = 0\n",
    "    y = 0\n",
    "    \n",
    "    #calculating overall centroid\n",
    "    for point in centroids:\n",
    "        x += point[0]\n",
    "        y += point[0]\n",
    "        \n",
    "    x = x/len(centroids)\n",
    "    y = y/len(centroids)\n",
    "    overall_centroid = (x, y)\n",
    "    \n",
    "    #start calculating separation\n",
    "    separation = 0\n",
    "    i = 0\n",
    "    \n",
    "    for point in centroids:\n",
    "        temp_value = square(point[0] - overall_centroid[0]) + square(point[1] - overall_centroid[1])\n",
    "        temp_value = temp_value * len(clusters[i])\n",
    "        \n",
    "        separation += temp_value\n",
    "        i+=1\n",
    "        \n",
    "    return separation\n",
    "    "
   ]
  },
  {
   "cell_type": "code",
   "execution_count": 20,
   "metadata": {},
   "outputs": [
    {
     "name": "stdout",
     "output_type": "stream",
     "text": [
      "Calculating Cohesion: 28.3904828926\n",
      "Calculating Separation: 285.785427139\n"
     ]
    },
    {
     "data": {
      "image/png": "[encoded data removed]",
      "text/plain": [
       "<matplotlib.figure.Figure at 0x245a6c74908>"
      ]
     },
     "metadata": {},
     "output_type": "display_data"
    }
   ],
   "source": [
    "# your code goes here\n",
    "#centroids, clusters = kMeansClustering(data, 5)\n",
    "\n",
    "#plotting clusters\n",
    "colors = ['black', 'red', 'yellow', 'blue', 'green']\n",
    "i = 0\n",
    "for cluster in clusters:\n",
    "    x = []\n",
    "    y = []\n",
    "    for cool in cluster:\n",
    "        x.append(cool[0])\n",
    "        y.append(cool[1])\n",
    "    plt.scatter(x,y, color = colors[i] )\n",
    "    i += 1\n",
    "    \n",
    "print('Calculating Cohesion:', calcCohesion(centroids, clusters))\n",
    "print('Calculating Separation:', calcSeparation(centroids, clusters))\n",
    "\n",
    "#debugging\n",
    "#asdf = kmpp(data, 5)"
   ]
  },
  {
   "cell_type": "markdown",
   "metadata": {},
   "source": [
    "Q. (Extra Credit) Implement kMeans++, to initialise the centroids in the k Means algorithm. Does this improve performance? Give cohesion and spearation values."
   ]
  },
  {
   "cell_type": "code",
   "execution_count": 21,
   "metadata": {
    "collapsed": true
   },
   "outputs": [],
   "source": [
    "# your code goes here\n",
    "\n",
    "def kmpp_centroids(data, k):\n",
    "    centroids = []\n",
    "    \n",
    "    #a random point in data will be our first centroid\n",
    "    centroids.append(data[random.randint(0, len(data))])\n",
    "    \n",
    "    while len(centroids) < k:\n",
    "        chances = []\n",
    "        chance_denominator = 0\n",
    "        \n",
    "        #finds the min distance to a centroid and adds to chances\n",
    "        #also updates denominator\n",
    "        for point in data:\n",
    "            mindist = 1000000\n",
    "            for centers in centroids:\n",
    "                dist = (centers[0]-point[0])**2 + (centers[1]-point[1])**2\n",
    "                if mindist > dist:\n",
    "                    mindist = dist\n",
    "                    \n",
    "            chances.append(mindist)\n",
    "            chance_denominator += mindist\n",
    "            \n",
    "        #chooses a number 0 --> denominator\n",
    "        choice = random.randint(0, chance_denominator)\n",
    "        \n",
    "        chance_sum = 0\n",
    "        answer = 0\n",
    "        i = 0\n",
    "        \n",
    "        for chance in chances:\n",
    "            chance_sum += chance\n",
    "            if chance_sum > choice:\n",
    "                answer = i\n",
    "                break\n",
    "            else:\n",
    "                i += 1\n",
    "        \n",
    "        centroids.append(data[answer])\n",
    "    \n",
    "    return centroids"
   ]
  },
  {
   "cell_type": "code",
   "execution_count": null,
   "metadata": {
    "collapsed": true
   },
   "outputs": [],
   "source": [
    "def kmppClustering(data, k):\n",
    "    clusters = None\n",
    "    mu = None\n",
    "    # your code goes here\n",
    "    \n",
    "    #generate 'k' random points as centroids for mu\n",
    "    mu = rgen(k, 2)\n",
    "    #generate inital clusters and centroids\n",
    "    clusters = generateClusters(data, mu)\n",
    "    newmu = recompute_centroids(clusters)\n",
    "    \n",
    "    #if centroids don't match, update clusters and centroids\n",
    "    while checkConvergence(newmu, mu) == False:\n",
    "        mu = newmu\n",
    "        clusters = generateClusters(data, mu)\n",
    "        newmu = recompute_centroids(clusters)\n",
    "    \n",
    "    #return the 'k' clusters\n",
    "    return(mu, clusters)"
   ]
  },
  {
   "cell_type": "markdown",
   "metadata": {},
   "source": [
    "## Part 2: Hierarchical Clustering\n",
    "\n",
    "For this part you'll be implementing single-linkage clustering, one of several methods of hierarchical clustering. It is based on grouping clusters in bottom-up fashion (agglomerative clustering), at each step combining two clusters that contain the closest pair of elements not yet belonging to the same cluster as each other. In the beginning of the agglomerative clustering process, each element is in a cluster of its own. The clusters are then sequentially combined into larger clusters, until all elements end up being in the same cluster. At each step, the two clusters separated by the shortest distance are combined. Here distance is defined as the euclidean distance between the two points."
   ]
  },
  {
   "cell_type": "code",
   "execution_count": 12,
   "metadata": {},
   "outputs": [
    {
     "name": "stdout",
     "output_type": "stream",
     "text": [
      "[[-0.23604872 -0.83012675]\n",
      " [-0.20753952 -0.66550322]\n",
      " [-0.48108096 -0.46727384]\n",
      " [-0.27729046 -0.59349899]\n",
      " [-0.04479072 -0.5984576 ]\n",
      " [-0.13136382 -0.67378397]\n",
      " [-0.11719707 -0.76280307]\n",
      " [-0.57597308  0.02505388]\n",
      " [-0.00095456 -0.13908238]\n",
      " [-0.13936793 -0.18521367]\n",
      " [-0.01954153  0.11605246]\n",
      " [-0.05791985 -0.21984893]\n",
      " [-0.29589549 -0.12918766]\n",
      " [-0.1101182  -0.03476591]\n",
      " [ 0.20765516  0.81449598]\n",
      " [ 0.2755254   0.62343378]\n",
      " [ 0.55693317  0.59108196]\n",
      " [ 0.4974992   0.64904387]\n",
      " [ 0.19195484  0.64492109]\n",
      " [ 0.75587755  0.408303  ]]\n"
     ]
    }
   ],
   "source": [
    "# get data from text file\n",
    "data = np.genfromtxt(\"data2.csv\", delimiter=\",\")\n",
    "print (data)"
   ]
  },
  {
   "cell_type": "markdown",
   "metadata": {},
   "source": [
    "Q6. Implement single-linkage clustering. Print the cophenetic correlation coefficient (CPCC) for the resultant clustering."
   ]
  },
  {
   "cell_type": "code",
   "execution_count": 13,
   "metadata": {
    "collapsed": true
   },
   "outputs": [],
   "source": [
    "# your code goes here\n"
   ]
  },
  {
   "cell_type": "markdown",
   "metadata": {},
   "source": [
    "## Part 3: Density Based Clustering (DBSCAN)\n",
    "\n",
    "For this part we'll be implementing DBSCAN, one of the most popular density based clustering algorithms."
   ]
  },
  {
   "cell_type": "code",
   "execution_count": 14,
   "metadata": {},
   "outputs": [
    {
     "data": {
      "text/plain": [
       "<matplotlib.collections.PathCollection at 0x28361036fd0>"
      ]
     },
     "execution_count": 14,
     "metadata": {},
     "output_type": "execute_result"
    },
    {
     "data": {
      "image/png": "[encoded data removed]",
      "text/plain": [
       "<matplotlib.figure.Figure at 0x28360b0ee80>"
      ]
     },
     "metadata": {},
     "output_type": "display_data"
    }
   ],
   "source": [
    "# get data from text file\n",
    "data = np.genfromtxt(\"data3.csv\", delimiter=\",\")\n",
    "plt.scatter(data[:,0],data[:,1], marker='.')"
   ]
  },
  {
   "cell_type": "markdown",
   "metadata": {},
   "source": [
    "Q7. Run your `kMeansClustering` with `k = 2` and display the output clusters (make sure that different clusters are marked with different colors). Also display the cohesion and separation values for the clusters. What do you observe?"
   ]
  },
  {
   "cell_type": "code",
   "execution_count": 15,
   "metadata": {
    "collapsed": true
   },
   "outputs": [],
   "source": [
    "# your code goes here\n"
   ]
  },
  {
   "cell_type": "markdown",
   "metadata": {},
   "source": [
    "Q8. Implement the DBSCAN algorithm and display output clusters. DBSCAN requires two parameters: epsilon and the minimum number of points required to form a dense region (minPts). A good starting point for epsilon is `0.3` and `minPts = 2`. You should tweak these values and observe how the resultant clusters change."
   ]
  },
  {
   "cell_type": "code",
   "execution_count": 16,
   "metadata": {
    "collapsed": true
   },
   "outputs": [],
   "source": [
    "# your code goes here\n"
   ]
  },
  {
   "cell_type": "markdown",
   "metadata": {},
   "source": [
    "Q9. Display the separation and cohesion values for the output clusters obtained in Q8. How are the clusters obtained in Q8 different from the ones obtained in Q7?"
   ]
  },
  {
   "cell_type": "code",
   "execution_count": 17,
   "metadata": {
    "collapsed": true
   },
   "outputs": [],
   "source": [
    "# your code goes here\n"
   ]
  }
 ],
 "metadata": {
  "kernelspec": {
   "display_name": "Python 3",
   "language": "python",
   "name": "python3"
  },
  "language_info": {
   "codemirror_mode": {
    "name": "ipython",
    "version": 3
   },
   "file_extension": ".py",
   "mimetype": "text/x-python",
   "name": "python",
   "nbconvert_exporter": "python",
   "pygments_lexer": "ipython3",
   "version": "3.6.1"
  }
 },
 "nbformat": 4,
 "nbformat_minor": 2
}
